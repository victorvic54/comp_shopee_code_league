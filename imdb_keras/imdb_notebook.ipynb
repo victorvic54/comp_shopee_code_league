{
 "cells": [
  {
   "cell_type": "code",
   "execution_count": 32,
   "metadata": {
    "tags": []
   },
   "outputs": [],
   "source": [
    "from sklearn.model_selection import train_test_split\n",
    "\n",
    "import tensorflow as tf\n",
    "import keras\n",
    "\n",
    "data = keras.datasets.imdb\n",
    "\n",
    "(train_data, train_labels), (test_data, test_labels) = data.load_data(num_words=88000)"
   ]
  },
  {
   "cell_type": "code",
   "execution_count": 33,
   "metadata": {
    "tags": []
   },
   "outputs": [
    {
     "output_type": "stream",
     "name": "stdout",
     "text": "[1, 14, 22, 16, 43, 530, 973, 1622, 1385, 65, 458, 4468, 66, 3941, 4, 173, 36, 256, 5, 25, 100, 43, 838, 112, 50, 670, 22665, 9, 35, 480, 284, 5, 150, 4, 172, 112, 167, 21631, 336, 385, 39, 4, 172, 4536, 1111, 17, 546, 38, 13, 447, 4, 192, 50, 16, 6, 147, 2025, 19, 14, 22, 4, 1920, 4613, 469, 4, 22, 71, 87, 12, 16, 43, 530, 38, 76, 15, 13, 1247, 4, 22, 17, 515, 17, 12, 16, 626, 18, 19193, 5, 62, 386, 12, 8, 316, 8, 106, 5, 4, 2223, 5244, 16, 480, 66, 3785, 33, 4, 130, 12, 16, 38, 619, 5, 25, 124, 51, 36, 135, 48, 25, 1415, 33, 6, 22, 12, 215, 28, 77, 52, 5, 14, 407, 16, 82, 10311, 8, 4, 107, 117, 5952, 15, 256, 4, 31050, 7, 3766, 5, 723, 36, 71, 43, 530, 476, 26, 400, 317, 46, 7, 4, 12118, 1029, 13, 104, 88, 4, 381, 15, 297, 98, 32, 2071, 56, 26, 141, 6, 194, 7486, 18, 4, 226, 22, 21, 134, 476, 26, 480, 5, 144, 30, 5535, 18, 51, 36, 28, 224, 92, 25, 104, 4, 226, 65, 16, 38, 1334, 88, 12, 16, 283, 5, 16, 4472, 113, 103, 32, 15, 16, 5345, 19, 178, 32]\n"
    }
   ],
   "source": [
    "print(train_data[0])"
   ]
  },
  {
   "cell_type": "code",
   "execution_count": 34,
   "metadata": {},
   "outputs": [],
   "source": [
    "word_index = data.get_word_index()\n",
    "word_index = {k:(v+3) for k, v in word_index.items()}\n",
    "word_index[\"<PAD>\"] = 0\n",
    "word_index[\"<START>\"] = 1\n",
    "word_index[\"<UNK>\"] = 2\n",
    "word_index[\"<UNUSED>\"] = 3\n",
    "\n",
    "train_data = keras.preprocessing.sequence.pad_sequences(train_data, value=word_index[\"<PAD>\"], padding=\"post\", maxlen=250)\n",
    "test_data = keras.preprocessing.sequence.pad_sequences(test_data, value=word_index[\"<PAD>\"], padding=\"post\", maxlen=250)\n",
    "\n",
    "reverse_word_index = dict([(value, key) for (key, value) in word_index.items()])"
   ]
  },
  {
   "cell_type": "code",
   "execution_count": 38,
   "metadata": {
    "tags": []
   },
   "outputs": [
    {
     "output_type": "stream",
     "name": "stdout",
     "text": "Model: \"sequential_12\"\n_________________________________________________________________\nLayer (type)                 Output Shape              Param #   \n=================================================================\nembedding_12 (Embedding)     (None, None, 16)          1408000   \n_________________________________________________________________\nglobal_average_pooling1d_12  (None, 16)                0         \n_________________________________________________________________\ndense_25 (Dense)             (None, 16)                272       \n_________________________________________________________________\ndense_26 (Dense)             (None, 1)                 17        \n=================================================================\nTotal params: 1,408,289\nTrainable params: 1,408,289\nNon-trainable params: 0\n_________________________________________________________________\n"
    }
   ],
   "source": [
    "model = keras.Sequential()\n",
    "model.add(keras.layers.Embedding(88000, 16))\n",
    "model.add(keras.layers.GlobalAveragePooling1D())\n",
    "model.add(keras.layers.Dense(16, activation=\"relu\"))\n",
    "model.add(keras.layers.Dense(1, activation=\"sigmoid\"))\n",
    "\n",
    "model.summary()"
   ]
  },
  {
   "cell_type": "code",
   "execution_count": 39,
   "metadata": {
    "tags": []
   },
   "outputs": [
    {
     "output_type": "stream",
     "name": "stdout",
     "text": "Train on 15000 samples, validate on 10000 samples\nEpoch 1/35\n15000/15000 [==============================] - 1s 68us/step - loss: 0.6918 - accuracy: 0.5423 - val_loss: 0.6894 - val_accuracy: 0.6537\nEpoch 2/35\n15000/15000 [==============================] - 1s 57us/step - loss: 0.6847 - accuracy: 0.6419 - val_loss: 0.6792 - val_accuracy: 0.7279\nEpoch 3/35\n15000/15000 [==============================] - 1s 57us/step - loss: 0.6677 - accuracy: 0.7379 - val_loss: 0.6578 - val_accuracy: 0.7456\nEpoch 4/35\n15000/15000 [==============================] - 1s 56us/step - loss: 0.6366 - accuracy: 0.7908 - val_loss: 0.6232 - val_accuracy: 0.7837\nEpoch 5/35\n15000/15000 [==============================] - 1s 58us/step - loss: 0.5909 - accuracy: 0.8159 - val_loss: 0.5782 - val_accuracy: 0.7976\nEpoch 6/35\n15000/15000 [==============================] - 1s 57us/step - loss: 0.5355 - accuracy: 0.8347 - val_loss: 0.5286 - val_accuracy: 0.8195\nEpoch 7/35\n15000/15000 [==============================] - 1s 57us/step - loss: 0.4773 - accuracy: 0.8584 - val_loss: 0.4815 - val_accuracy: 0.8318\nEpoch 8/35\n15000/15000 [==============================] - 1s 59us/step - loss: 0.4221 - accuracy: 0.8761 - val_loss: 0.4390 - val_accuracy: 0.8479\nEpoch 9/35\n15000/15000 [==============================] - 1s 62us/step - loss: 0.3734 - accuracy: 0.8940 - val_loss: 0.4047 - val_accuracy: 0.8569\nEpoch 10/35\n15000/15000 [==============================] - 1s 57us/step - loss: 0.3312 - accuracy: 0.9050 - val_loss: 0.3774 - val_accuracy: 0.8635\nEpoch 11/35\n15000/15000 [==============================] - 1s 59us/step - loss: 0.2964 - accuracy: 0.9138 - val_loss: 0.3549 - val_accuracy: 0.8707\nEpoch 12/35\n15000/15000 [==============================] - 1s 55us/step - loss: 0.2667 - accuracy: 0.9224 - val_loss: 0.3387 - val_accuracy: 0.8733\nEpoch 13/35\n15000/15000 [==============================] - 1s 56us/step - loss: 0.2412 - accuracy: 0.9296 - val_loss: 0.3257 - val_accuracy: 0.8757\nEpoch 14/35\n15000/15000 [==============================] - 1s 56us/step - loss: 0.2193 - accuracy: 0.9379 - val_loss: 0.3158 - val_accuracy: 0.8762\nEpoch 15/35\n15000/15000 [==============================] - 1s 56us/step - loss: 0.2005 - accuracy: 0.9437 - val_loss: 0.3062 - val_accuracy: 0.8797\nEpoch 16/35\n15000/15000 [==============================] - 1s 62us/step - loss: 0.1835 - accuracy: 0.9500 - val_loss: 0.2999 - val_accuracy: 0.8815\nEpoch 17/35\n15000/15000 [==============================] - 1s 58us/step - loss: 0.1682 - accuracy: 0.9547 - val_loss: 0.2955 - val_accuracy: 0.8835\nEpoch 18/35\n15000/15000 [==============================] - 1s 61us/step - loss: 0.1545 - accuracy: 0.9601 - val_loss: 0.2906 - val_accuracy: 0.8842\nEpoch 19/35\n15000/15000 [==============================] - 1s 58us/step - loss: 0.1425 - accuracy: 0.9647 - val_loss: 0.2876 - val_accuracy: 0.8849\nEpoch 20/35\n15000/15000 [==============================] - 1s 59us/step - loss: 0.1317 - accuracy: 0.9678 - val_loss: 0.2851 - val_accuracy: 0.8858\nEpoch 21/35\n15000/15000 [==============================] - 1s 63us/step - loss: 0.1212 - accuracy: 0.9705 - val_loss: 0.2843 - val_accuracy: 0.8856\nEpoch 22/35\n15000/15000 [==============================] - 1s 61us/step - loss: 0.1118 - accuracy: 0.9746 - val_loss: 0.2819 - val_accuracy: 0.8884\nEpoch 23/35\n15000/15000 [==============================] - 1s 61us/step - loss: 0.1036 - accuracy: 0.9778 - val_loss: 0.2829 - val_accuracy: 0.8866\nEpoch 24/35\n15000/15000 [==============================] - 1s 51us/step - loss: 0.0962 - accuracy: 0.9795 - val_loss: 0.2817 - val_accuracy: 0.8882\nEpoch 25/35\n15000/15000 [==============================] - 1s 60us/step - loss: 0.0891 - accuracy: 0.9816 - val_loss: 0.2820 - val_accuracy: 0.8886\nEpoch 26/35\n15000/15000 [==============================] - 1s 60us/step - loss: 0.0827 - accuracy: 0.9835 - val_loss: 0.2829 - val_accuracy: 0.8883\nEpoch 27/35\n15000/15000 [==============================] - 1s 58us/step - loss: 0.0768 - accuracy: 0.9855 - val_loss: 0.2836 - val_accuracy: 0.8887\nEpoch 28/35\n15000/15000 [==============================] - 1s 57us/step - loss: 0.0716 - accuracy: 0.9871 - val_loss: 0.2868 - val_accuracy: 0.8887\nEpoch 29/35\n15000/15000 [==============================] - 1s 60us/step - loss: 0.0670 - accuracy: 0.9882 - val_loss: 0.2868 - val_accuracy: 0.8888\nEpoch 30/35\n14336/15000 [===========================>..] - ETA: 0s - loss: 0.0624 - accuracy: 0.9815000/15000 [==============================] - 1s 58us/step - loss: 0.0623 - accuracy: 0.9897 - val_loss: 0.2877 - val_accuracy: 0.8897\nEpoch 31/35\n15000/15000 [==============================] - 1s 60us/step - loss: 0.0579 - accuracy: 0.9905 - val_loss: 0.2898 - val_accuracy: 0.8896\nEpoch 32/35\n15000/15000 [==============================] - 1s 57us/step - loss: 0.0541 - accuracy: 0.9912 - val_loss: 0.2919 - val_accuracy: 0.8903\nEpoch 33/35\n15000/15000 [==============================] - 1s 60us/step - loss: 0.0507 - accuracy: 0.9917 - val_loss: 0.2939 - val_accuracy: 0.8899\nEpoch 34/35\n15000/15000 [==============================] - 1s 59us/step - loss: 0.0473 - accuracy: 0.9925 - val_loss: 0.2966 - val_accuracy: 0.8888\nEpoch 35/35\n15000/15000 [==============================] - 1s 59us/step - loss: 0.0442 - accuracy: 0.9939 - val_loss: 0.2985 - val_accuracy: 0.8887\n25000/25000 [==============================] - 1s 23us/step\n"
    }
   ],
   "source": [
    "model.compile(optimizer=\"adam\", loss=\"binary_crossentropy\", metrics=[\"accuracy\"])\n",
    "\n",
    "x_val, x_train, y_val, y_train = train_test_split(train_data, train_labels, test_size=15000, random_state=42)\n",
    "\n",
    "fitModel = model.fit(x_train, y_train, epochs=35, batch_size=512, validation_data=(x_val, y_val), verbose=1)\n",
    "results = model.evaluate(test_data, test_labels)"
   ]
  },
  {
   "cell_type": "code",
   "execution_count": null,
   "metadata": {},
   "outputs": [],
   "source": []
  }
 ],
 "metadata": {
  "language_info": {
   "codemirror_mode": {
    "name": "ipython",
    "version": 3
   },
   "file_extension": ".py",
   "mimetype": "text/x-python",
   "name": "python",
   "nbconvert_exporter": "python",
   "pygments_lexer": "ipython3",
   "version": "3.7.6-final"
  },
  "orig_nbformat": 2,
  "kernelspec": {
   "name": "projectname",
   "display_name": "projectname"
  }
 },
 "nbformat": 4,
 "nbformat_minor": 2
}
{
 "cells": [
  {
   "cell_type": "code",
   "execution_count": 1,
   "metadata": {
    "_cell_guid": "b1076dfc-b9ad-4769-8c92-a6c4dae69d19",
    "_uuid": "8f2839f25d086af736a60e9eeb907d3b93b6e0e5"
   },
   "outputs": [],
   "source": [
    "import pandas as pd\n",
    "import numpy as np\n",
    "import re\n",
    "from tqdm import tqdm\n",
    "from sklearn.pipeline import Pipeline\n",
    "from sklearn.feature_extraction.text import CountVectorizer\n",
    "from sklearn.feature_extraction.text import TfidfTransformer\n",
    "from sklearn.multiclass import OneVsRestClassifier\n",
    "from sklearn.svm import LinearSVC\n",
    "from sklearn.metrics import accuracy_score, classification_report"
   ]
  },
  {
   "cell_type": "code",
   "execution_count": 2,
   "metadata": {
    "_cell_guid": "79c7e3d0-c299-4dcb-8224-4455121ee9b0",
    "_uuid": "d629ff2d2480ee46fbb7e2d37f6b5fab8052498a",
    "collapsed": true
   },
   "outputs": [],
   "source": [
    "df = pd.read_csv(\"../input/train.csv\")\n",
    "df.head()\n",
    "df_test = pd.read_csv(\"../input/test.csv\")"
   ]
  },
  {
   "cell_type": "code",
   "execution_count": 3,
   "metadata": {},
   "outputs": [],
   "source": [
    "X = np.array(df['title'])\n",
    "y = np.array(df['Category'])"
   ]
  },
  {
   "cell_type": "code",
   "execution_count": 4,
   "metadata": {},
   "outputs": [],
   "source": [
    "from sklearn.model_selection import train_test_split\n",
    "\n",
    "X_train, X_test, y_train, y_test = train_test_split(X, y, test_size=0.33, random_state=53)\n",
    "my_tags = [str(tag) for tag in set(y_test)]"
   ]
  },
  {
   "cell_type": "code",
   "execution_count": 5,
   "metadata": {},
   "outputs": [],
   "source": [
    "model = Pipeline([('vectorizer', CountVectorizer(min_df=2,max_features=None,analyzer='word',token_pattern=r'\\w{1,}',ngram_range=(1,3))),\n",
    "    ('tfidf', TfidfTransformer(use_idf=False)),\n",
    "    ('clf', OneVsRestClassifier(LinearSVC(C=1)))])"
   ]
  },
  {
   "cell_type": "code",
   "execution_count": 6,
   "metadata": {},
   "outputs": [
    {
     "name": "stdout",
     "output_type": "stream",
     "text": [
      "accuracy 0.7483851024851921\n",
      "              precision    recall  f1-score   support\n",
      "\n",
      "           0       0.65      0.47      0.55      1217\n",
      "           1       0.79      0.65      0.71      9469\n",
      "           2       0.85      0.89      0.87      3825\n",
      "           3       0.87      0.90      0.89     26932\n",
      "           4       0.72      0.76      0.74     14146\n",
      "           5       0.77      0.81      0.79     18101\n",
      "           6       0.42      0.47      0.44       654\n",
      "           7       0.79      0.75      0.77      3863\n",
      "           8       0.62      0.66      0.64      1972\n",
      "           9       0.76      0.55      0.64      2765\n",
      "          10       0.72      0.70      0.71       358\n",
      "          11       0.66      0.63      0.64      1336\n",
      "          12       0.79      0.91      0.85      7243\n",
      "          13       0.67      0.61      0.64       961\n",
      "          14       0.43      0.27      0.33       870\n",
      "          15       0.52      0.20      0.29       198\n",
      "          16       0.60      0.27      0.37       735\n",
      "          17       0.50      0.17      0.26       950\n",
      "          18       0.60      0.78      0.68     18996\n",
      "          19       0.65      0.58      0.62      4430\n",
      "          20       0.62      0.54      0.58      6561\n",
      "          21       0.55      0.22      0.32      3494\n",
      "          22       0.52      0.37      0.44      4982\n",
      "          23       0.68      0.69      0.69       530\n",
      "          24       0.60      0.21      0.31      1395\n",
      "          25       0.75      0.79      0.77     11085\n",
      "          26       0.65      0.74      0.69     11166\n",
      "          27       0.69      0.59      0.63      5288\n",
      "          28       0.69      0.60      0.64      2173\n",
      "          29       0.62      0.66      0.64      1070\n",
      "          30       0.61      0.12      0.20       487\n",
      "          31       0.86      0.90      0.88      9018\n",
      "          32       0.85      0.92      0.89      9866\n",
      "          33       0.85      0.94      0.89      1567\n",
      "          34       0.80      0.84      0.82      4869\n",
      "          35       0.75      0.52      0.62     10145\n",
      "          36       0.81      0.91      0.86       374\n",
      "          37       0.83      0.85      0.84       755\n",
      "          38       0.84      0.94      0.88      1562\n",
      "          39       0.85      0.90      0.87       242\n",
      "          40       0.61      0.58      0.59       114\n",
      "          41       0.87      0.93      0.90      6268\n",
      "          42       0.84      0.93      0.88      3460\n",
      "          43       0.78      0.91      0.84      1999\n",
      "          44       0.83      0.90      0.87       303\n",
      "          45       0.85      0.90      0.88       713\n",
      "          46       0.89      0.94      0.91       220\n",
      "          47       0.76      0.82      0.79       300\n",
      "          48       0.82      0.87      0.84       128\n",
      "          49       0.77      0.53      0.63       193\n",
      "          50       0.85      0.94      0.89        94\n",
      "          51       0.69      0.74      0.71       145\n",
      "          52       0.78      0.74      0.76        38\n",
      "          53       0.68      0.66      0.67       143\n",
      "          54       0.71      0.79      0.75        99\n",
      "          55       0.81      0.78      0.79        49\n",
      "          56       0.79      0.53      0.63        49\n",
      "          57       0.64      0.39      0.48        18\n",
      "\n",
      "   micro avg       0.75      0.75      0.75    219983\n",
      "   macro avg       0.72      0.67      0.68    219983\n",
      "weighted avg       0.74      0.75      0.74    219983\n",
      "\n"
     ]
    }
   ],
   "source": [
    "#fit model with training data\n",
    "model.fit(X_train, y_train)\n",
    "#evaluation on test data\n",
    "pred = model.predict(X_test)\n",
    "print('accuracy %s' % accuracy_score(y_test,pred))\n",
    "print(classification_report(y_test, pred,target_names=my_tags))"
   ]
  },
  {
   "cell_type": "code",
   "execution_count": 7,
   "metadata": {},
   "outputs": [
    {
     "name": "stderr",
     "output_type": "stream",
     "text": [
      "100%|██████████| 172402/172402 [11:37<00:00, 247.05it/s]"
     ]
    },
    {
     "name": "stdout",
     "output_type": "stream",
     "text": [
      "done\n"
     ]
    },
    {
     "name": "stderr",
     "output_type": "stream",
     "text": [
      "\n"
     ]
    }
   ],
   "source": [
    "from tqdm import tqdm\n",
    "infile = open(\"predictions.csv\",'w+')\n",
    "infile.write('itemid,Category\\n')\n",
    "\n",
    "for i in tqdm(range(len(df_test))):\n",
    "    a = df_test[\"title\"][i]\n",
    "    b = model.predict([a])[0]\n",
    "    infile.write(str(df_test[\"itemid\"][i]))\n",
    "    infile.write(',')\n",
    "    infile.write(str(b))\n",
    "    infile.write('\\n')\n",
    "    \n",
    "print(\"done\")\n",
    "infile.close()"
   ]
  }
 ],
 "metadata": {
  "kernelspec": {
   "display_name": "Python 3",
   "language": "python",
   "name": "python3"
  },
  "language_info": {
   "codemirror_mode": {
    "name": "ipython",
    "version": 3
   },
   "file_extension": ".py",
   "mimetype": "text/x-python",
   "name": "python",
   "nbconvert_exporter": "python",
   "pygments_lexer": "ipython3",
   "version": "3.7.6"
  }
 },
 "nbformat": 4,
 "nbformat_minor": 1
}
